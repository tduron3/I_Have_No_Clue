{
 "cells": [
  {
   "cell_type": "code",
   "execution_count": 1,
   "metadata": {},
   "outputs": [],
   "source": [
    "# Set Dependencies\n",
    "\n",
    "import csv\n",
    "import pandas as pd\n",
    "import numpy as np\n",
    "import requests\n",
    "import json\n"
   ]
  },
  {
   "cell_type": "code",
   "execution_count": 2,
   "metadata": {},
   "outputs": [
    {
     "data": {
      "text/html": [
       "<div>\n",
       "<style scoped>\n",
       "    .dataframe tbody tr th:only-of-type {\n",
       "        vertical-align: middle;\n",
       "    }\n",
       "\n",
       "    .dataframe tbody tr th {\n",
       "        vertical-align: top;\n",
       "    }\n",
       "\n",
       "    .dataframe thead th {\n",
       "        text-align: right;\n",
       "    }\n",
       "</style>\n",
       "<table border=\"1\" class=\"dataframe\">\n",
       "  <thead>\n",
       "    <tr style=\"text-align: right;\">\n",
       "      <th></th>\n",
       "      <th>year</th>\n",
       "      <th>state</th>\n",
       "      <th>state_po</th>\n",
       "      <th>state_fips</th>\n",
       "      <th>state_cen</th>\n",
       "      <th>state_ic</th>\n",
       "      <th>office</th>\n",
       "      <th>candidate</th>\n",
       "      <th>party_detailed</th>\n",
       "      <th>writein</th>\n",
       "      <th>candidatevotes</th>\n",
       "      <th>totalvotes</th>\n",
       "      <th>version</th>\n",
       "      <th>notes</th>\n",
       "      <th>party_simplified</th>\n",
       "    </tr>\n",
       "  </thead>\n",
       "  <tbody>\n",
       "    <tr>\n",
       "      <th>0</th>\n",
       "      <td>1976</td>\n",
       "      <td>ALABAMA</td>\n",
       "      <td>AL</td>\n",
       "      <td>1</td>\n",
       "      <td>63</td>\n",
       "      <td>41</td>\n",
       "      <td>US PRESIDENT</td>\n",
       "      <td>CARTER, JIMMY</td>\n",
       "      <td>DEMOCRAT</td>\n",
       "      <td>False</td>\n",
       "      <td>659170</td>\n",
       "      <td>1182850</td>\n",
       "      <td>20210113</td>\n",
       "      <td>NaN</td>\n",
       "      <td>DEMOCRAT</td>\n",
       "    </tr>\n",
       "    <tr>\n",
       "      <th>1</th>\n",
       "      <td>1976</td>\n",
       "      <td>ALABAMA</td>\n",
       "      <td>AL</td>\n",
       "      <td>1</td>\n",
       "      <td>63</td>\n",
       "      <td>41</td>\n",
       "      <td>US PRESIDENT</td>\n",
       "      <td>FORD, GERALD</td>\n",
       "      <td>REPUBLICAN</td>\n",
       "      <td>False</td>\n",
       "      <td>504070</td>\n",
       "      <td>1182850</td>\n",
       "      <td>20210113</td>\n",
       "      <td>NaN</td>\n",
       "      <td>REPUBLICAN</td>\n",
       "    </tr>\n",
       "    <tr>\n",
       "      <th>2</th>\n",
       "      <td>1976</td>\n",
       "      <td>ALABAMA</td>\n",
       "      <td>AL</td>\n",
       "      <td>1</td>\n",
       "      <td>63</td>\n",
       "      <td>41</td>\n",
       "      <td>US PRESIDENT</td>\n",
       "      <td>MADDOX, LESTER</td>\n",
       "      <td>AMERICAN INDEPENDENT PARTY</td>\n",
       "      <td>False</td>\n",
       "      <td>9198</td>\n",
       "      <td>1182850</td>\n",
       "      <td>20210113</td>\n",
       "      <td>NaN</td>\n",
       "      <td>OTHER</td>\n",
       "    </tr>\n",
       "    <tr>\n",
       "      <th>3</th>\n",
       "      <td>1976</td>\n",
       "      <td>ALABAMA</td>\n",
       "      <td>AL</td>\n",
       "      <td>1</td>\n",
       "      <td>63</td>\n",
       "      <td>41</td>\n",
       "      <td>US PRESIDENT</td>\n",
       "      <td>BUBAR, BENJAMIN \"\"BEN\"\"</td>\n",
       "      <td>PROHIBITION</td>\n",
       "      <td>False</td>\n",
       "      <td>6669</td>\n",
       "      <td>1182850</td>\n",
       "      <td>20210113</td>\n",
       "      <td>NaN</td>\n",
       "      <td>OTHER</td>\n",
       "    </tr>\n",
       "    <tr>\n",
       "      <th>4</th>\n",
       "      <td>1976</td>\n",
       "      <td>ALABAMA</td>\n",
       "      <td>AL</td>\n",
       "      <td>1</td>\n",
       "      <td>63</td>\n",
       "      <td>41</td>\n",
       "      <td>US PRESIDENT</td>\n",
       "      <td>HALL, GUS</td>\n",
       "      <td>COMMUNIST PARTY USE</td>\n",
       "      <td>False</td>\n",
       "      <td>1954</td>\n",
       "      <td>1182850</td>\n",
       "      <td>20210113</td>\n",
       "      <td>NaN</td>\n",
       "      <td>OTHER</td>\n",
       "    </tr>\n",
       "  </tbody>\n",
       "</table>\n",
       "</div>"
      ],
      "text/plain": [
       "   year    state state_po  state_fips  state_cen  state_ic        office  \\\n",
       "0  1976  ALABAMA       AL           1         63        41  US PRESIDENT   \n",
       "1  1976  ALABAMA       AL           1         63        41  US PRESIDENT   \n",
       "2  1976  ALABAMA       AL           1         63        41  US PRESIDENT   \n",
       "3  1976  ALABAMA       AL           1         63        41  US PRESIDENT   \n",
       "4  1976  ALABAMA       AL           1         63        41  US PRESIDENT   \n",
       "\n",
       "                 candidate              party_detailed writein  \\\n",
       "0            CARTER, JIMMY                    DEMOCRAT   False   \n",
       "1             FORD, GERALD                  REPUBLICAN   False   \n",
       "2           MADDOX, LESTER  AMERICAN INDEPENDENT PARTY   False   \n",
       "3  BUBAR, BENJAMIN \"\"BEN\"\"                 PROHIBITION   False   \n",
       "4                HALL, GUS         COMMUNIST PARTY USE   False   \n",
       "\n",
       "   candidatevotes  totalvotes   version  notes party_simplified  \n",
       "0          659170     1182850  20210113    NaN         DEMOCRAT  \n",
       "1          504070     1182850  20210113    NaN       REPUBLICAN  \n",
       "2            9198     1182850  20210113    NaN            OTHER  \n",
       "3            6669     1182850  20210113    NaN            OTHER  \n",
       "4            1954     1182850  20210113    NaN            OTHER  "
      ]
     },
     "execution_count": 2,
     "metadata": {},
     "output_type": "execute_result"
    }
   ],
   "source": [
    "# Output File CSV\n",
    "\n",
    "output_data_file = \"output.proj1.csv\"\n",
    "\n",
    "# Name CSV Files\n",
    "df = pd.read_csv(r'C:\\users\\tony duron\\Project1-TD\\Resources\\1976-2020-president.csv')\n",
    "df.head()\n",
    "\n"
   ]
  },
  {
   "cell_type": "code",
   "execution_count": null,
   "metadata": {},
   "outputs": [],
   "source": []
  },
  {
   "cell_type": "code",
   "execution_count": 3,
   "metadata": {},
   "outputs": [
    {
     "name": "stdout",
     "output_type": "stream",
     "text": [
      "https://dataverse.harvard.edu/api/access/datafile/4299753&q2020\n"
     ]
    }
   ],
   "source": [
    "# Establish Base URL and Build Query\n",
    "\n",
    "url = \"https://dataverse.harvard.edu/api/access/datafile/4299753\"\n",
    "\n",
    "year = \"2020\"\n",
    "\n",
    "query_url = f\"{url}&q{year}\"\n",
    "\n",
    "print(query_url)"
   ]
  },
  {
   "cell_type": "code",
   "execution_count": null,
   "metadata": {},
   "outputs": [],
   "source": [
    "# Get Presidential Data\n",
    "pres_response = requests.get(query_url)\n",
    "df = pd.read_csv(r'C:\\users\\tony duron\\Project1-TD\\Resources\\1976-2020-president.csv')\n",
    "\n",
    "Pres = []\n",
    "State = []"
   ]
  },
  {
   "cell_type": "code",
   "execution_count": 3,
   "metadata": {},
   "outputs": [
    {
     "name": "stdout",
     "output_type": "stream",
     "text": [
      "https://opendata.socrata.com/resource/asset_id.jsonappid=ZG1vYjBocHRqenc0NTA4M3d1bDhlaWUzMzoyeHRxcmpkd2Q3YXdtcXpvdHZrejNtYmt0bWZkY3dwNnR1d3c0djF6eHBrZ&q2020\n"
     ]
    }
   ],
   "source": [
    "# Build Query\n",
    "\n",
    "url = \"https://opendata.socrata.com/resource/asset_id.json\"\n",
    "year = \"2020\"\n",
    "\n",
    "api_key = \"ZG1vYjBocHRqenc0NTA4M3d1bDhlaWUzMzoyeHRxcmpkd2Q3YXdtcXpvdHZrejNtYmt0bWZkY3dwNnR1d3c0djF6eHBrZ\"\n",
    "\n",
    "query_url = f\"{url}appid={api_key}&q{year}\"\n",
    "\n",
    "print(query_url)"
   ]
  },
  {
   "cell_type": "code",
   "execution_count": null,
   "metadata": {},
   "outputs": [],
   "source": [
    "GEThttps://private-anon-50b08f9405-socrataapikeys.apiary-proxy.com/resource/asset_id.json"
   ]
  },
  {
   "cell_type": "code",
   "execution_count": null,
   "metadata": {},
   "outputs": [],
   "source": [
    "df1 = pd.read_csv(r'C:\\users\\tony duron\\Project1-TD\\Resources\\All_States_Cases.csv')\n",
    "df1 = pd.DataFrame()\n",
    "df1.head()\n",
    "\n",
    "df2 = pd.read_csv(r'C:\\users\\tony duron\\Project1-TD\\Resources\\1976-2020-president.csv')\n",
    "df2 = pd.DataFrame()\n",
    "df2.head()"
   ]
  },
  {
   "cell_type": "code",
   "execution_count": null,
   "metadata": {},
   "outputs": [],
   "source": []
  },
  {
   "cell_type": "code",
   "execution_count": 3,
   "metadata": {},
   "outputs": [],
   "source": [
    "# Save Config Information\n",
    "\n",
    "urllib2 = \"https://opendata.socrata.com/resource/asset_id.json\"\n",
    "\n",
    "# Build Partial Query URL\n",
    "\n",
    "query_url = f\"{urllib2}\"\n"
   ]
  }
 ],
 "metadata": {
  "kernelspec": {
   "display_name": "Python 3",
   "language": "python",
   "name": "python3"
  },
  "language_info": {
   "codemirror_mode": {
    "name": "ipython",
    "version": 3
   },
   "file_extension": ".py",
   "mimetype": "text/x-python",
   "name": "python",
   "nbconvert_exporter": "python",
   "pygments_lexer": "ipython3",
   "version": "3.8.5"
  }
 },
 "nbformat": 4,
 "nbformat_minor": 4
}
